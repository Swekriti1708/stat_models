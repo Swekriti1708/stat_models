{
  "nbformat": 4,
  "nbformat_minor": 0,
  "metadata": {
    "colab": {
      "name": "Untitled0.ipynb",
      "provenance": [],
      "authorship_tag": "ABX9TyNmNvgQA7ahvLgnddt/DcIw",
      "include_colab_link": true
    },
    "kernelspec": {
      "name": "python3",
      "display_name": "Python 3"
    },
    "language_info": {
      "name": "python"
    }
  },
  "cells": [
    {
      "cell_type": "markdown",
      "metadata": {
        "id": "view-in-github",
        "colab_type": "text"
      },
      "source": [
        "<a href=\"https://colab.research.google.com/github/Swekriti1708/stat_models/blob/main/intro_stats.ipynb\" target=\"_parent\"><img src=\"https://colab.research.google.com/assets/colab-badge.svg\" alt=\"Open In Colab\"/></a>"
      ]
    },
    {
      "cell_type": "code",
      "metadata": {
        "colab": {
          "base_uri": "https://localhost:8080/"
        },
        "id": "MZZL6As8yOpS",
        "outputId": "5739014b-5363-4c5b-e0f5-349f16c23b75"
      },
      "source": [
        " import numpy as np\n",
        "\n",
        " import statsmodels.api as sm\n",
        "\n",
        "# Generate artificial data (2 regressors + constant)\n",
        " nobs =100\n",
        " X = np.random.random((nobs, 2))\n",
        " X = sm.add_constant(X)\n",
        " beta = [1, .1, .5]\n",
        "e = np.random.random(nobs)\n",
        " y = np.dot(X, beta) + e\n",
        "\n",
        "# Fit regression model\n",
        " results = sm.OLS(y, X).fit()\n",
        "\n",
        "# Inspect the results\n",
        " print(results.summary())"
      ],
      "execution_count": null,
      "outputs": [
        {
          "output_type": "stream",
          "text": [
            "                            OLS Regression Results                            \n",
            "==============================================================================\n",
            "Dep. Variable:                      y   R-squared:                       0.213\n",
            "Model:                            OLS   Adj. R-squared:                  0.197\n",
            "Method:                 Least Squares   F-statistic:                     13.14\n",
            "Date:                Sun, 08 Aug 2021   Prob (F-statistic):           8.94e-06\n",
            "Time:                        17:22:45   Log-Likelihood:                -18.475\n",
            "No. Observations:                 100   AIC:                             42.95\n",
            "Df Residuals:                      97   BIC:                             50.77\n",
            "Df Model:                           2                                         \n",
            "Covariance Type:            nonrobust                                         \n",
            "==============================================================================\n",
            "                 coef    std err          t      P>|t|      [0.025      0.975]\n",
            "------------------------------------------------------------------------------\n",
            "const          1.5277      0.071     21.404      0.000       1.386       1.669\n",
            "x1             0.0551      0.101      0.547      0.586      -0.145       0.255\n",
            "x2             0.5446      0.113      4.817      0.000       0.320       0.769\n",
            "==============================================================================\n",
            "Omnibus:                       24.955   Durbin-Watson:                   2.080\n",
            "Prob(Omnibus):                  0.000   Jarque-Bera (JB):                5.393\n",
            "Skew:                          -0.045   Prob(JB):                       0.0674\n",
            "Kurtosis:                       1.866   Cond. No.                         5.12\n",
            "==============================================================================\n",
            "\n",
            "Warnings:\n",
            "[1] Standard Errors assume that the covariance matrix of the errors is correctly specified.\n"
          ],
          "name": "stdout"
        }
      ]
    },
    {
      "cell_type": "code",
      "metadata": {
        "id": "v-JLDei-1Gtf"
      },
      "source": [
        ""
      ],
      "execution_count": null,
      "outputs": []
    },
    {
      "cell_type": "code",
      "metadata": {
        "colab": {
          "base_uri": "https://localhost:8080/"
        },
        "id": "oiEgyFdWvWIb",
        "outputId": "f5550b92-9184-42d1-c5e0-ea98ecb90b20"
      },
      "source": [
        "import numpy as np\n",
        "import statsmodels.api as sm\n",
        "import statsmodels.formula.api as smf\n",
        "# load data\n",
        "dat = sm.datasets.get_rdataset(\"Guerry\", \"HistData\").data\n",
        "# Fit regression model (using the natural log of one of the regressors)\n",
        "results = smf.ols('Lottery ~ Literacy + np.log(Pop1831)', data=dat).fit()\n",
        "# Inspect the results\n",
        "print(results.summary())"
      ],
      "execution_count": null,
      "outputs": [
        {
          "output_type": "stream",
          "text": [
            "                            OLS Regression Results                            \n",
            "==============================================================================\n",
            "Dep. Variable:                Lottery   R-squared:                       0.348\n",
            "Model:                            OLS   Adj. R-squared:                  0.333\n",
            "Method:                 Least Squares   F-statistic:                     22.20\n",
            "Date:                Sun, 08 Aug 2021   Prob (F-statistic):           1.90e-08\n",
            "Time:                        17:21:07   Log-Likelihood:                -379.82\n",
            "No. Observations:                  86   AIC:                             765.6\n",
            "Df Residuals:                      83   BIC:                             773.0\n",
            "Df Model:                           2                                         \n",
            "Covariance Type:            nonrobust                                         \n",
            "===================================================================================\n",
            "                      coef    std err          t      P>|t|      [0.025      0.975]\n",
            "-----------------------------------------------------------------------------------\n",
            "Intercept         246.4341     35.233      6.995      0.000     176.358     316.510\n",
            "Literacy           -0.4889      0.128     -3.832      0.000      -0.743      -0.235\n",
            "np.log(Pop1831)   -31.3114      5.977     -5.239      0.000     -43.199     -19.424\n",
            "==============================================================================\n",
            "Omnibus:                        3.713   Durbin-Watson:                   2.019\n",
            "Prob(Omnibus):                  0.156   Jarque-Bera (JB):                3.394\n",
            "Skew:                          -0.487   Prob(JB):                        0.183\n",
            "Kurtosis:                       3.003   Cond. No.                         702.\n",
            "==============================================================================\n",
            "\n",
            "Warnings:\n",
            "[1] Standard Errors assume that the covariance matrix of the errors is correctly specified.\n"
          ],
          "name": "stdout"
        }
      ]
    },
    {
      "cell_type": "markdown",
      "metadata": {
        "id": "3jK_Q3ulxeJ4"
      },
      "source": [
        ""
      ]
    },
    {
      "cell_type": "code",
      "metadata": {
        "id": "qbTwQoIdxexj"
      },
      "source": [
        ""
      ],
      "execution_count": null,
      "outputs": []
    },
    {
      "cell_type": "markdown",
      "metadata": {
        "id": "ahCGGY5s6uwc"
      },
      "source": [
        "# New Section"
      ]
    }
  ]
}